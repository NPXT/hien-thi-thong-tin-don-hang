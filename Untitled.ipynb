{
 "cells": [
  {
   "cell_type": "code",
   "execution_count": 1,
   "id": "49834f09",
   "metadata": {},
   "outputs": [
    {
     "name": "stdout",
     "output_type": "stream",
     "text": [
      "Số tiền KH đã chi: 90\n",
      "Số tiền KH phải trả:  75\n"
     ]
    }
   ],
   "source": [
    "sotien= int(input( \"Số tiền KH đã chi: \"))\n",
    "if sotien>=150:\n",
    "    print(\"Số tiền KH phải trả: \",sotien - 50)\n",
    "elif sotien>=100:\n",
    "    print(\"Số tiền KH phải trả: \",sotien - 25)\n",
    "elif sotien>=75:\n",
    "    print(\"Số tiền KH phải trả: \",sotien - 15)\n",
    "else :\n",
    "    print(\" Số tiền KH phải trả là: \", sotien)"
   ]
  },
  {
   "cell_type": "code",
   "execution_count": null,
   "id": "8295333b",
   "metadata": {},
   "outputs": [],
   "source": []
  }
 ],
 "metadata": {
  "kernelspec": {
   "display_name": "Python 3 (ipykernel)",
   "language": "python",
   "name": "python3"
  },
  "language_info": {
   "codemirror_mode": {
    "name": "ipython",
    "version": 3
   },
   "file_extension": ".py",
   "mimetype": "text/x-python",
   "name": "python",
   "nbconvert_exporter": "python",
   "pygments_lexer": "ipython3",
   "version": "3.9.12"
  }
 },
 "nbformat": 4,
 "nbformat_minor": 5
}
